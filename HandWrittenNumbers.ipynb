{
  "nbformat": 4,
  "nbformat_minor": 0,
  "metadata": {
    "colab": {
      "provenance": []
    },
    "kernelspec": {
      "name": "python3",
      "display_name": "Python 3"
    },
    "language_info": {
      "name": "python"
    }
  },
  "cells": [
    {
      "cell_type": "code",
      "execution_count": 1,
      "metadata": {
        "id": "3N4Enuriwc-3"
      },
      "outputs": [],
      "source": [
        "import numpy as np\n",
        "import matplotlib.pyplot as plt\n",
        "import cv2"
      ]
    },
    {
      "cell_type": "markdown",
      "source": [
        "## Load the dataset "
      ],
      "metadata": {
        "id": "LZYtgJK6xFsG"
      }
    },
    {
      "cell_type": "code",
      "source": [
        "!git clone https://github.com/amir-saniyan/HodaDatasetReader.git"
      ],
      "metadata": {
        "id": "qLtoLNzYxKKe",
        "colab": {
          "base_uri": "https://localhost:8080/"
        },
        "outputId": "575c7bf2-28c2-46ae-a6d7-f98e829c3297"
      },
      "execution_count": 2,
      "outputs": [
        {
          "output_type": "stream",
          "name": "stdout",
          "text": [
            "Cloning into 'HodaDatasetReader'...\n",
            "remote: Enumerating objects: 24, done.\u001b[K\n",
            "remote: Total 24 (delta 0), reused 0 (delta 0), pack-reused 24\u001b[K\n",
            "Unpacking objects: 100% (24/24), done.\n"
          ]
        }
      ]
    },
    {
      "cell_type": "code",
      "source": [
        "from HodaDatasetReader.HodaDatasetReader import read_hoda_dataset\n",
        "train_images, train_labels = read_hoda_dataset('./HodaDatasetReader/DigitDB/Train 60000.cdb',images_height=32, images_width=32, one_hot=True, reshape=False)\n",
        "test_images, test_labels = read_hoda_dataset('./HodaDatasetReader/DigitDB/Test 20000.cdb' ,images_height=32, images_width=32, one_hot=True, reshape=False)\n"
      ],
      "metadata": {
        "id": "6AKqQuL-xy1P"
      },
      "execution_count": 3,
      "outputs": []
    },
    {
      "cell_type": "code",
      "source": [
        "figure = plt.figure(figsize=(8, 8))\n",
        "figure.add_subplot(3, 3, 1)\n",
        "for i in range(1, 10):\n",
        "    sample_img , sample_lbl = train_images[i], np.argmax(train_labels[i])\n",
        "    figure.add_subplot(3, 3, i)\n",
        "    plt.title(sample_lbl)\n",
        "    plt.axis(\"off\")\n",
        "    plt.imshow(sample_img[:,:,0],  cmap=\"gray\")\n",
        "plt.show()"
      ],
      "metadata": {
        "id": "9wNbSFAyyBb1",
        "colab": {
          "base_uri": "https://localhost:8080/",
          "height": 539
        },
        "outputId": "ba8f886f-1414-42ac-da0f-4b9291990f52"
      },
      "execution_count": 4,
      "outputs": [
        {
          "output_type": "stream",
          "name": "stderr",
          "text": [
            "<ipython-input-4-5db87576d8f8>:5: MatplotlibDeprecationWarning: Adding an axes using the same arguments as a previous axes currently reuses the earlier instance.  In a future version, a new instance will always be created and returned.  Meanwhile, this warning can be suppressed, and the future behavior ensured, by passing a unique label to each axes instance.\n",
            "  figure.add_subplot(3, 3, i)\n"
          ]
        },
        {
          "output_type": "display_data",
          "data": {
            "text/plain": [
              "<Figure size 576x576 with 9 Axes>"
            ],
            "image/png": "[encoded data removed]"
          },
          "metadata": {
            "needs_background": "light"
          }
        }
      ]
    },
    {
      "cell_type": "markdown",
      "source": [
        "# Build the model"
      ],
      "metadata": {
        "id": "XuxDcN9v0BpL"
      }
    },
    {
      "cell_type": "code",
      "source": [
        "import tensorflow as tf\n"
      ],
      "metadata": {
        "id": "p34ZaJBF0GVs"
      },
      "execution_count": 5,
      "outputs": []
    },
    {
      "cell_type": "code",
      "source": [
        "# Get help from https://github.com/sayakpaul/Spatial-Transformer-Networks-with-Keras/blob/main/STN.ipynb\n",
        "# Get pixel value for coordinate vectors x and y from a  4D tensor image.\n",
        "def get_pixel_value(img, x, y): \n",
        "\n",
        "    shape = tf.shape(x)\n",
        "    batch_size = shape[0]\n",
        "    height = shape[1]\n",
        "    width = shape[2]\n",
        "\n",
        "    idx = tf.range(0, batch_size)\n",
        "    idx = tf.reshape(idx, (batch_size, 1, 1))\n",
        "    b = tf.tile(idx, (1, height, width))\n",
        "\n",
        "    indices = tf.stack([b, y, x], 3)\n",
        "\n",
        "    return tf.gather_nd(img, indices)\n",
        "\n",
        "# Returns a sampling grid, create an output feature map that is an affine transformation of the input feature map.\n",
        "def affine_grid_generator(height, width, theta):\n",
        "\n",
        "    batchnumber = tf.shape(theta)[0]\n",
        "\n",
        "    # create normalized 2D grid\n",
        "    x = tf.linspace(-1.0, 1.0, width)\n",
        "    y = tf.linspace(-1.0, 1.0, height)\n",
        "    x_t, y_t = tf.meshgrid(x, y)\n",
        "\n",
        "    # flatten\n",
        "    x_t_flat = tf.reshape(x_t, [-1])\n",
        "    y_t_flat = tf.reshape(y_t, [-1])\n",
        "\n",
        "    # homogeneous form\n",
        "    ones = tf.ones_like(x_t_flat)\n",
        "    sample_grid = tf.stack([x_t_flat, y_t_flat, ones])\n",
        "\n",
        "    # repeat grid for batch number times\n",
        "    sample_grid = tf.expand_dims(sample_grid, axis=0)\n",
        "    sample_grid = tf.tile(sample_grid, tf.stack([batchnumber, 1, 1]))\n",
        "\n",
        "    theta = tf.cast(theta, 'float32')\n",
        "    sample_grid = tf.cast(sample_grid, 'float32')\n",
        "\n",
        "    # batch multiply\n",
        "    batch_grids = tf.matmul(theta, sample_grid)\n",
        "    batch_grids = tf.reshape(batch_grids, [batchnumber, 2, height, width])\n",
        "\n",
        "    return batch_grids\n",
        "\n",
        "# Performs bilinear sampling of the input images according to the normalized coordinates provided by the sampling grid.\n",
        "def bilinear_sampler(img, x, y):\n",
        "\n",
        "    H = tf.shape(img)[1]\n",
        "    W = tf.shape(img)[2]\n",
        "    ymax = tf.cast(H - 1, 'int32')\n",
        "    xmax = tf.cast(W - 1, 'int32')\n",
        "    zero = tf.zeros([], dtype='int32')\n",
        "\n",
        "    x = tf.cast(x, 'float32')\n",
        "    y = tf.cast(y, 'float32')\n",
        "    x = 0.5 * ((x + 1.0) * tf.cast(xmax-1, 'float32'))\n",
        "    y = 0.5 * ((y + 1.0) * tf.cast(ymax-1, 'float32'))\n",
        "\n",
        "    # grab 4 nearest corner points for each x,y\n",
        "    x0 = tf.cast(tf.floor(x), 'int32')\n",
        "    x1 = x0 + 1\n",
        "    y0 = tf.cast(tf.floor(y), 'int32')\n",
        "    y1 = y0 + 1\n",
        "\n",
        "    x0 = tf.clip_by_value(x0, zero, xmax)\n",
        "    x1 = tf.clip_by_value(x1, zero, xmax)\n",
        "    y0 = tf.clip_by_value(y0, zero, ymax)\n",
        "    y1 = tf.clip_by_value(y1, zero, ymax)\n",
        "\n",
        "    # get pixel value at corner coords\n",
        "    Ia = get_pixel_value(img, x0, y0)\n",
        "    Ib = get_pixel_value(img, x0, y1)\n",
        "    Ic = get_pixel_value(img, x1, y0)\n",
        "    Id = get_pixel_value(img, x1, y1)\n",
        "\n",
        "    x0 = tf.cast(x0, 'float32')\n",
        "    x1 = tf.cast(x1, 'float32')\n",
        "    y0 = tf.cast(y0, 'float32')\n",
        "    y1 = tf.cast(y1, 'float32')\n",
        "\n",
        "    # calculate deltas\n",
        "    wa = (x1-x) * (y1-y)\n",
        "    wb = (x1-x) * (y-y0)\n",
        "    wc = (x-x0) * (y1-y)\n",
        "    wd = (x-x0) * (y-y0)\n",
        "\n",
        "    # add dimension for addition\n",
        "    wa = tf.expand_dims(wa, axis=3)\n",
        "    wb = tf.expand_dims(wb, axis=3)\n",
        "    wc = tf.expand_dims(wc, axis=3)\n",
        "    wd = tf.expand_dims(wd, axis=3)\n",
        "\n",
        "    # compute output\n",
        "    out = tf.add_n([wa*Ia, wb*Ib, wc*Ic, wd*Id])\n",
        "\n",
        "    return out"
      ],
      "metadata": {
        "id": "1tt_BMZvz6du"
      },
      "execution_count": 6,
      "outputs": []
    },
    {
      "cell_type": "code",
      "source": [
        "class MyModel(tf.keras.Model):\n",
        "\n",
        "  def __init__(self):\n",
        "    super().__init__()\n",
        "    # network layers here\n",
        "    self.local = tf.keras.Sequential([\n",
        "        tf.keras.layers.Conv2D(8, kernel_size=7, input_shape=(32, 32, 1), \n",
        "                      activation=\"relu\", kernel_initializer=\"he_normal\"),\n",
        "        tf.keras.layers.MaxPool2D(strides=2),\n",
        "        tf.keras.layers.Conv2D(10, kernel_size=5, activation=\"relu\", kernel_initializer=\"he_normal\"),\n",
        "        tf.keras.layers.MaxPool2D(strides=2),\n",
        "    ])\n",
        "\n",
        "    self.fc = tf.keras.Sequential([\n",
        "        tf.keras.layers.Dense(32, activation=\"relu\", kernel_initializer=\"he_normal\"),\n",
        "        tf.keras.layers.Dense(3 * 2, kernel_initializer=\"zeros\", bias_initializer=tf.keras.initializers.Constant([1, 0, 0, 0, 1, 0]))\n",
        "    ])\n",
        "    #Flat and drop out\n",
        "    self.flatten = tf.keras.layers.Flatten()\n",
        "    self.dense1 = tf.keras.layers.Dense(256, activation=\"relu\")\n",
        "    self.dense2 = tf.keras.layers.Dense(128, activation=\"relu\")\n",
        "    self.dropout = tf.keras.layers.Dropout(0.5)\n",
        "    self.outputlayer = tf.keras.layers.Dense(10, activation=\"softmax\")\n",
        "\n",
        "  # Spatial transformer network forward function\n",
        "  def spatialtransformer(self, x):\n",
        "        \n",
        "    xs = self.local(x)\n",
        "    xs = tf.reshape(xs, (-1, 10 * 4 * 4 ))\n",
        "    theta = self.fc(xs)\n",
        "    theta = tf.reshape(theta, (-1, 2, 3))\n",
        "    \n",
        "    grid = affine_grid_generator(32, 32, theta)\n",
        "    x_s = grid[:, 0, :, :]\n",
        "    y_s = grid[:, 1, :, :]\n",
        "    x = bilinear_sampler(x, x_s, y_s)\n",
        "\n",
        "    return x\n",
        "\n",
        "  def call(self, inputs, training=False, usestn=True):\n",
        "    theta = np.array([[1., 0, 0], [0, 1., 0]])\n",
        "    if usestn:\n",
        "      x = self.spatialtransformer(inputs)\n",
        "    else:\n",
        "      x = inputs\n",
        "    x = self.flatten(x)\n",
        "    x = self.dense1(x)\n",
        "    x = self.dense2(x)\n",
        "    x = self.dropout(x)\n",
        "    output = self.outputlayer(x)\n",
        "    return output\n",
        "\n",
        "\n"
      ],
      "metadata": {
        "id": "O_P6jugO1urK"
      },
      "execution_count": 19,
      "outputs": []
    },
    {
      "cell_type": "code",
      "source": [
        "model = MyModel()\n",
        "model.build(input_shape=(None, 32,32,1))\n",
        "model.summary()"
      ],
      "metadata": {
        "id": "0b36VxQA54Q9",
        "colab": {
          "base_uri": "https://localhost:8080/"
        },
        "outputId": "42c7a7bd-b92f-4d63-9978-ba15417f267c"
      },
      "execution_count": 20,
      "outputs": [
        {
          "output_type": "stream",
          "name": "stdout",
          "text": [
            "Model: \"my_model_2\"\n",
            "_________________________________________________________________\n",
            " Layer (type)                Output Shape              Param #   \n",
            "=================================================================\n",
            " sequential_2 (Sequential)   (None, 4, 4, 10)          2410      \n",
            "                                                                 \n",
            " sequential_3 (Sequential)   (None, 6)                 5350      \n",
            "                                                                 \n",
            " flatten_2 (Flatten)         multiple                  0         \n",
            "                                                                 \n",
            " dense_10 (Dense)            multiple                  262400    \n",
            "                                                                 \n",
            " dense_11 (Dense)            multiple                  32896     \n",
            "                                                                 \n",
            " dropout_2 (Dropout)         multiple                  0         \n",
            "                                                                 \n",
            " dense_12 (Dense)            multiple                  1290      \n",
            "                                                                 \n",
            "=================================================================\n",
            "Total params: 304,346\n",
            "Trainable params: 304,346\n",
            "Non-trainable params: 0\n",
            "_________________________________________________________________\n"
          ]
        }
      ]
    },
    {
      "cell_type": "markdown",
      "source": [
        "# Now compile and fit the model "
      ],
      "metadata": {
        "id": "obvGbmWk_ljK"
      }
    },
    {
      "cell_type": "code",
      "source": [
        "model.compile(optimizer='Adam', loss='categorical_crossentropy', metrics=['accuracy'])\n"
      ],
      "metadata": {
        "id": "d5ztFvZh-wkO"
      },
      "execution_count": 13,
      "outputs": []
    },
    {
      "cell_type": "code",
      "source": [
        "model.fit(x=train_images, y=train_labels, validation_split=0.1, batch_size=64, epochs=5, shuffle=True)"
      ],
      "metadata": {
        "id": "DleNczKE-3FK",
        "colab": {
          "base_uri": "https://localhost:8080/"
        },
        "outputId": "1682b1e8-1e4c-49f6-9a02-ac763cfe56bd"
      },
      "execution_count": 14,
      "outputs": [
        {
          "output_type": "stream",
          "name": "stdout",
          "text": [
            "Epoch 1/5\n",
            "844/844 [==============================] - 7s 8ms/step - loss: 0.1835 - accuracy: 0.9464 - val_loss: 0.0713 - val_accuracy: 0.9778\n",
            "Epoch 2/5\n",
            "844/844 [==============================] - 7s 8ms/step - loss: 0.0678 - accuracy: 0.9805 - val_loss: 0.0529 - val_accuracy: 0.9835\n",
            "Epoch 3/5\n",
            "844/844 [==============================] - 9s 11ms/step - loss: 0.0414 - accuracy: 0.9876 - val_loss: 0.0518 - val_accuracy: 0.9850\n",
            "Epoch 4/5\n",
            "844/844 [==============================] - 7s 9ms/step - loss: 0.0318 - accuracy: 0.9899 - val_loss: 0.0423 - val_accuracy: 0.9897\n",
            "Epoch 5/5\n",
            "844/844 [==============================] - 6s 7ms/step - loss: 0.0246 - accuracy: 0.9922 - val_loss: 0.0528 - val_accuracy: 0.9882\n"
          ]
        },
        {
          "output_type": "execute_result",
          "data": {
            "text/plain": [
              "<keras.callbacks.History at 0x7f5c0dad50a0>"
            ]
          },
          "metadata": {},
          "execution_count": 14
        }
      ]
    },
    {
      "cell_type": "markdown",
      "source": [
        "# Now, lets test the model"
      ],
      "metadata": {
        "id": "qnAm2GxkCEj8"
      }
    },
    {
      "cell_type": "markdown",
      "source": [
        "test your model with the test data"
      ],
      "metadata": {
        "id": "9ZfoohxjCZ9V"
      }
    },
    {
      "cell_type": "markdown",
      "source": [
        "**Note: Test without stn**"
      ],
      "metadata": {
        "id": "AVkxBM8MdD1_"
      }
    },
    {
      "cell_type": "code",
      "source": [
        "image = cv2.imread(\"/0.png\", cv2.IMREAD_GRAYSCALE)\n",
        "plt.imshow(image, cmap=\"gray\")\n",
        "imgarr = tf.expand_dims(image, 0)\n",
        "predictions = model.predict(imgarr)\n",
        "print(\"prediction : \",np.where(predictions[0] == 1.)[0])"
      ],
      "metadata": {
        "id": "hA0eVyvK6uhF",
        "colab": {
          "base_uri": "https://localhost:8080/",
          "height": 303
        },
        "outputId": "faa9a3c5-d110-4360-ac73-56127499246d"
      },
      "execution_count": 15,
      "outputs": [
        {
          "output_type": "stream",
          "name": "stdout",
          "text": [
            "1/1 [==============================] - 0s 97ms/step\n",
            "prediction :  [0]\n"
          ]
        },
        {
          "output_type": "display_data",
          "data": {
            "text/plain": [
              "<Figure size 432x288 with 1 Axes>"
            ],
            "image/png": "[encoded data removed]"
          },
          "metadata": {
            "needs_background": "light"
          }
        }
      ]
    },
    {
      "cell_type": "code",
      "source": [
        "image = cv2.imread(\"/5.png\", cv2.IMREAD_GRAYSCALE)\n",
        "plt.imshow(image, cmap=\"gray\")\n",
        "imgarr = tf.expand_dims(image, 0)\n",
        "predictions = model.predict(imgarr)\n",
        "print(\"prediction : \",np.where(predictions[0] == 1.)[0])"
      ],
      "metadata": {
        "id": "Xx_QAX7u9z_L",
        "colab": {
          "base_uri": "https://localhost:8080/",
          "height": 303
        },
        "outputId": "3f89d29b-74a6-4d36-e33a-8a8db12f1bfe"
      },
      "execution_count": 18,
      "outputs": [
        {
          "output_type": "stream",
          "name": "stdout",
          "text": [
            "1/1 [==============================] - 0s 57ms/step\n",
            "prediction :  [5]\n"
          ]
        },
        {
          "output_type": "display_data",
          "data": {
            "text/plain": [
              "<Figure size 432x288 with 1 Axes>"
            ],
            "image/png": "[encoded data removed]"
          },
          "metadata": {
            "needs_background": "light"
          }
        }
      ]
    }
  ]
}